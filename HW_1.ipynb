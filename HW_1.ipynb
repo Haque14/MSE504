{
  "nbformat": 4,
  "nbformat_minor": 0,
  "metadata": {
    "colab": {
      "provenance": [],
      "authorship_tag": "ABX9TyO0mDEeGpmgQwCyxQgurS6k",
      "include_colab_link": true
    },
    "kernelspec": {
      "name": "python3",
      "display_name": "Python 3"
    },
    "language_info": {
      "name": "python"
    }
  },
  "cells": [
    {
      "cell_type": "markdown",
      "metadata": {
        "id": "view-in-github",
        "colab_type": "text"
      },
      "source": [
        "<a href=\"https://colab.research.google.com/github/Haque14/MSE504/blob/main/HW_1.ipynb\" target=\"_parent\"><img src=\"https://colab.research.google.com/assets/colab-badge.svg\" alt=\"Open In Colab\"/></a>"
      ]
    },
    {
      "cell_type": "markdown",
      "source": [
        "**Name: Md Ershadul Haque**\n",
        "\n",
        "**Department: Mechanical, Aerospace, and Biomedical Engineering**"
      ],
      "metadata": {
        "id": "Pw73ZzzbVC4B"
      }
    },
    {
      "cell_type": "markdown",
      "source": [
        "**Chapter 01**"
      ],
      "metadata": {
        "id": "iC-crtjqQonE"
      }
    },
    {
      "cell_type": "code",
      "execution_count": 1,
      "metadata": {
        "id": "GE5WjrbSK2Js"
      },
      "outputs": [],
      "source": [
        "x = 14"
      ]
    },
    {
      "cell_type": "code",
      "source": [
        "x += 1"
      ],
      "metadata": {
        "id": "jkDUyVKPK-Ts"
      },
      "execution_count": 2,
      "outputs": []
    },
    {
      "cell_type": "code",
      "source": [
        "(x/5) ** 2"
      ],
      "metadata": {
        "colab": {
          "base_uri": "https://localhost:8080/"
        },
        "id": "PkPQm4WiLBA7",
        "outputId": "b6d26a04-ef33-4534-b468-9bff9a0ef7fb"
      },
      "execution_count": 3,
      "outputs": [
        {
          "output_type": "execute_result",
          "data": {
            "text/plain": [
              "9.0"
            ]
          },
          "metadata": {},
          "execution_count": 3
        }
      ]
    },
    {
      "cell_type": "markdown",
      "source": [
        "**Area of Triangle**"
      ],
      "metadata": {
        "id": "mm152N-6LHE4"
      }
    },
    {
      "cell_type": "code",
      "source": [
        "# Initialize variables\n",
        "base, height = 2, 4\n",
        "# Pythagorean Theorem in 3 dimensions\n",
        "area_triangle = 1/2 * base * height\n",
        "# Convert\n",
        "area_triangle = int(area_triangle)\n",
        "#Show the area\n",
        "print(area_triangle)"
      ],
      "metadata": {
        "colab": {
          "base_uri": "https://localhost:8080/"
        },
        "id": "avTMnWKULMmb",
        "outputId": "0e963809-9598-418c-c8dd-709678911dce"
      },
      "execution_count": 4,
      "outputs": [
        {
          "output_type": "stream",
          "name": "stdout",
          "text": [
            "4\n"
          ]
        }
      ]
    },
    {
      "cell_type": "code",
      "source": [
        "# Choose a question to ask\n",
        "print('How would you rate your day on a scale of 1 to 10?')\n",
        "# Set a variable equal to input()\n",
        "day_rating = input()\n",
        "# Select an appropriate output.\n",
        "print(f'You feel like a {day_rating} today. Thanks for letting me know')"
      ],
      "metadata": {
        "colab": {
          "base_uri": "https://localhost:8080/"
        },
        "id": "LskuajajLb4E",
        "outputId": "08f291bd-a43e-42c9-9d69-f3c4152b1ebf"
      },
      "execution_count": 5,
      "outputs": [
        {
          "output_type": "stream",
          "name": "stdout",
          "text": [
            "How would you rate your day on a scale of 1 to 10?\n",
            "9\n",
            "You feel like a 9 today. Thanks for letting me know\n"
          ]
        }
      ]
    },
    {
      "cell_type": "code",
      "source": [
        "# Find the Least Common Multiple of Two Divisors\n",
        "counting = True\n",
        "first_divisor = 24\n",
        "second_divisor = 36\n",
        "i = 1\n",
        "while counting:\n",
        "    if i % first_divisor == 0 and i % second_divisor == 0:\n",
        "        print(f'The Least Common Multiple of {first_divisor} and {second_divisor} is {i}.')\n",
        "        break\n",
        "    i += 1"
      ],
      "metadata": {
        "colab": {
          "base_uri": "https://localhost:8080/"
        },
        "id": "7WLpak6kLk73",
        "outputId": "27eafb26-9182-424b-8756-66031c49d936"
      },
      "execution_count": 6,
      "outputs": [
        {
          "output_type": "stream",
          "name": "stdout",
          "text": [
            "The Least Common Multiple of 24 and 36 is 72.\n"
          ]
        }
      ]
    },
    {
      "cell_type": "code",
      "source": [
        "print('What is your name?')\n",
        "name = input()\n",
        "print('Fascinating.', name, 'is my name too.')\n",
        "print('Have you thought about black holes today?')\n",
        "yes_no = input()\n",
        "print('I am so glad you said', yes_no, '. I was thinking the same thing.')\n",
        "print('We\\'re kindred spirits,', name, '. Talk later.')\n",
        "\n",
        "print('How intelligent are you? 0 is no intelligence. And 10 is a genius')\n",
        "smarts = input()\n",
        "smarts = int(smarts)\n",
        "if smarts <= 3:\n",
        "   print('I don\\'t believe you.')\n",
        "   print('How bad of a day are you having? 0 is the worst, and 10 is the best.')\n",
        "   day = input()\n",
        "   day = int(day)\n",
        "   if day <= 5:\n",
        "       print('If I was human, I would give you a hug.')\n",
        "   else:\n",
        "       print('Maybe I should try your approach.')\n",
        "elif smarts <= 6:\n",
        "   print('I think you\\'re actually smarter.')\n",
        "   print('How much time do you spend online? 0 is none and 10 is 24 hours a day.')\n",
        "   hours = input()\n",
        "   hours = int(hours)\n",
        "   if hours <= 4:\n",
        "       print('That\\'s the problem.')\n",
        "   else:\n",
        "      print('And I thought it was only me.')\n",
        "elif smarts <= 8:\n",
        "   print('Are you human by chance? Wait. Don\\'t answer that.')\n",
        "   print('How human are you? 0 is not at all and 10 is human all the way.')\n",
        "   human = input()\n",
        "   human = int(human)\n",
        "   if human <= 5:\n",
        "       print('I knew it.')\n",
        "   else:\n",
        "       print('I think this courtship is over.')\n",
        "else:\n",
        "   print('I see... How many operating systems do you run?')\n",
        "   os = input()\n",
        "   os = int(os)\n",
        "   if os <= 2:\n",
        "      print('Good thing you\\'re taking this course.')\n",
        "   else:\n",
        "      print('What is this? A competition?')"
      ],
      "metadata": {
        "colab": {
          "base_uri": "https://localhost:8080/"
        },
        "id": "YjcE6yzCLsmy",
        "outputId": "9ac67db7-cc18-4dfd-dd5f-b7937c4dcd3a"
      },
      "execution_count": 7,
      "outputs": [
        {
          "output_type": "stream",
          "name": "stdout",
          "text": [
            "What is your name?\n",
            "Ershadul\n",
            "Fascinating. Ershadul is my name too.\n",
            "Have you thought about black holes today?\n",
            "Yes\n",
            "I am so glad you said Yes . I was thinking the same thing.\n",
            "We're kindred spirits, Ershadul . Talk later.\n",
            "How intelligent are you? 0 is no intelligence. And 10 is a genius\n",
            "7\n",
            "Are you human by chance? Wait. Don't answer that.\n",
            "How human are you? 0 is not at all and 10 is human all the way.\n",
            "9\n",
            "I think this courtship is over.\n"
          ]
        }
      ]
    },
    {
      "cell_type": "markdown",
      "source": [
        "**Exercise04**\n"
      ],
      "metadata": {
        "id": "Ciqzs1sbMOh5"
      }
    },
    {
      "cell_type": "code",
      "source": [
        "first_number = 1\n",
        "my_money = 1000.00"
      ],
      "metadata": {
        "id": "muO00RRjMB02"
      },
      "execution_count": 8,
      "outputs": []
    },
    {
      "cell_type": "markdown",
      "source": [
        "**Exercise05**"
      ],
      "metadata": {
        "id": "xZqqu1wwMh7x"
      }
    },
    {
      "cell_type": "code",
      "source": [
        "x = 5\n",
        "y = 2\n",
        "x + x - y ** 2\n",
        "x, y = 8, 5\n",
        "x // y"
      ],
      "metadata": {
        "colab": {
          "base_uri": "https://localhost:8080/"
        },
        "id": "SNVCa8ZfMlk1",
        "outputId": "7c928263-91a8-43f3-a730-62be26d5ac51"
      },
      "execution_count": 9,
      "outputs": [
        {
          "output_type": "execute_result",
          "data": {
            "text/plain": [
              "1"
            ]
          },
          "metadata": {},
          "execution_count": 9
        }
      ]
    },
    {
      "cell_type": "markdown",
      "source": [
        "**Exercise06**"
      ],
      "metadata": {
        "id": "j4tLNRrmMvzW"
      }
    },
    {
      "cell_type": "code",
      "source": [
        "# This is a comment\n",
        "# Set the variable pi equal to 3.14\n",
        "pi = 3.14\n",
        "pi = 3.14    # Set the variable pi equal to 3.14\n"
      ],
      "metadata": {
        "id": "BQZQf99ZMya4"
      },
      "execution_count": 10,
      "outputs": []
    },
    {
      "cell_type": "markdown",
      "source": [
        "Exercise08"
      ],
      "metadata": {
        "id": "niC2c2AbNDkp"
      }
    },
    {
      "cell_type": "code",
      "source": [
        "greeting = 'Hello'\n",
        "print(greeting)\n",
        "greeting\n"
      ],
      "metadata": {
        "colab": {
          "base_uri": "https://localhost:8080/",
          "height": 53
        },
        "id": "K7QBUtLyNFJq",
        "outputId": "4ef54bc7-eb7d-4c38-d2ea-db8b656bd26d"
      },
      "execution_count": 11,
      "outputs": [
        {
          "output_type": "stream",
          "name": "stdout",
          "text": [
            "Hello\n"
          ]
        },
        {
          "output_type": "execute_result",
          "data": {
            "text/plain": [
              "'Hello'"
            ],
            "application/vnd.google.colaboratory.intrinsic+json": {
              "type": "string"
            }
          },
          "metadata": {},
          "execution_count": 11
        }
      ]
    },
    {
      "cell_type": "code",
      "source": [
        "spanish_greeting = 'Hola.'\n",
        "spanish_greeting\n",
        "arabic_greeting = 'Ahlan wa sahlan.'\n",
        "spanish_greeting = 'Hola.'\n",
        "print(spanish_greeting)"
      ],
      "metadata": {
        "colab": {
          "base_uri": "https://localhost:8080/"
        },
        "id": "j-v4aB9wNKbj",
        "outputId": "cb5a03c1-f38b-494b-ee70-89ca1d183c7f"
      },
      "execution_count": 12,
      "outputs": [
        {
          "output_type": "stream",
          "name": "stdout",
          "text": [
            "Hola.\n"
          ]
        }
      ]
    },
    {
      "cell_type": "code",
      "source": [
        "arabic_greeting = 'Ahlan wa sahlan.'\n",
        "print(arabic_greeting)"
      ],
      "metadata": {
        "colab": {
          "base_uri": "https://localhost:8080/"
        },
        "id": "0Jjx8sXhNOWp",
        "outputId": "6ed69fed-727d-4f70-dad1-20d4dae2a86f"
      },
      "execution_count": 13,
      "outputs": [
        {
          "output_type": "stream",
          "name": "stdout",
          "text": [
            "Ahlan wa sahlan.\n"
          ]
        }
      ]
    },
    {
      "cell_type": "markdown",
      "source": [
        "**Exercise09**"
      ],
      "metadata": {
        "id": "RI4twfUCNSg-"
      }
    },
    {
      "cell_type": "code",
      "source": [
        "spanish_greeting = 'Hola'\n",
        "print(spanish_greeting + 'Senor.')\n",
        "spanish_greeting = 'Hola '\n",
        "print(spanish_greeting + 'Senor.')\n",
        "greeting = 'Hello'\n",
        "print(greeting * 5)"
      ],
      "metadata": {
        "colab": {
          "base_uri": "https://localhost:8080/"
        },
        "id": "PGHWPHlDNfEE",
        "outputId": "2789f429-26f1-41a9-e4c3-24ee8c466c6a"
      },
      "execution_count": 14,
      "outputs": [
        {
          "output_type": "stream",
          "name": "stdout",
          "text": [
            "HolaSenor.\n",
            "Hola Senor.\n",
            "HelloHelloHelloHelloHello\n"
          ]
        }
      ]
    },
    {
      "cell_type": "markdown",
      "source": [
        "**Exercise10**"
      ],
      "metadata": {
        "id": "cqIufkHnNmt8"
      }
    },
    {
      "cell_type": "code",
      "source": [
        "name = 'Josephine'\n",
        "name.lower()\n",
        "name.capitalize()\n",
        "name.upper()\n"
      ],
      "metadata": {
        "colab": {
          "base_uri": "https://localhost:8080/",
          "height": 35
        },
        "id": "Kk-jmn6jNrAt",
        "outputId": "c6383dc0-485f-4b91-e47e-c317d0a51359"
      },
      "execution_count": 18,
      "outputs": [
        {
          "output_type": "execute_result",
          "data": {
            "text/plain": [
              "'JOSEPHINE'"
            ],
            "application/vnd.google.colaboratory.intrinsic+json": {
              "type": "string"
            }
          },
          "metadata": {},
          "execution_count": 18
        }
      ]
    },
    {
      "cell_type": "code",
      "source": [
        "name.count('i')"
      ],
      "metadata": {
        "colab": {
          "base_uri": "https://localhost:8080/"
        },
        "id": "rBFbBaufN5Tk",
        "outputId": "f59b8c9f-149b-4f1b-aada-6b3817d8545d"
      },
      "execution_count": 19,
      "outputs": [
        {
          "output_type": "execute_result",
          "data": {
            "text/plain": [
              "1"
            ]
          },
          "metadata": {},
          "execution_count": 19
        }
      ]
    },
    {
      "cell_type": "markdown",
      "source": [
        "**Exercise11**"
      ],
      "metadata": {
        "id": "3ciZaM5sN_OA"
      }
    },
    {
      "cell_type": "code",
      "source": [
        "type('5')"
      ],
      "metadata": {
        "colab": {
          "base_uri": "https://localhost:8080/"
        },
        "id": "vn8VI0ySOB_4",
        "outputId": "da9b7033-8b14-4254-ba6d-229c91e79894"
      },
      "execution_count": 20,
      "outputs": [
        {
          "output_type": "execute_result",
          "data": {
            "text/plain": [
              "str"
            ]
          },
          "metadata": {},
          "execution_count": 20
        }
      ]
    },
    {
      "cell_type": "code",
      "source": [
        "'5' + '7'"
      ],
      "metadata": {
        "colab": {
          "base_uri": "https://localhost:8080/",
          "height": 35
        },
        "id": "UDJliLa2OEnt",
        "outputId": "6e52bdb2-a990-42c0-ccd0-f2e9ed69825e"
      },
      "execution_count": 21,
      "outputs": [
        {
          "output_type": "execute_result",
          "data": {
            "text/plain": [
              "'57'"
            ],
            "application/vnd.google.colaboratory.intrinsic+json": {
              "type": "string"
            }
          },
          "metadata": {},
          "execution_count": 21
        }
      ]
    },
    {
      "cell_type": "code",
      "source": [
        "int('5')"
      ],
      "metadata": {
        "colab": {
          "base_uri": "https://localhost:8080/"
        },
        "id": "iS4tnJI6OG-a",
        "outputId": "c836ec7b-dd84-40a3-eaf7-248d1c45d7e6"
      },
      "execution_count": 22,
      "outputs": [
        {
          "output_type": "execute_result",
          "data": {
            "text/plain": [
              "5"
            ]
          },
          "metadata": {},
          "execution_count": 22
        }
      ]
    },
    {
      "cell_type": "code",
      "source": [
        "int('5') + int('7')"
      ],
      "metadata": {
        "colab": {
          "base_uri": "https://localhost:8080/"
        },
        "id": "SVoYhzMyOIqh",
        "outputId": "196850ac-1612-4a45-d3e8-b3d4a6f7a08f"
      },
      "execution_count": 23,
      "outputs": [
        {
          "output_type": "execute_result",
          "data": {
            "text/plain": [
              "12"
            ]
          },
          "metadata": {},
          "execution_count": 23
        }
      ]
    },
    {
      "cell_type": "markdown",
      "source": [
        "**Exercise12**"
      ],
      "metadata": {
        "id": "b7kks3Y1OJ-n"
      }
    },
    {
      "cell_type": "code",
      "source": [
        "# Choose a question to ask\n",
        "print('What is your name?')\n",
        "name = input()\n",
        "print('Hello, ' + name + '.')\n",
        "name = input('What is your name?')\n",
        "print(f'Hello, {name}.')"
      ],
      "metadata": {
        "colab": {
          "base_uri": "https://localhost:8080/"
        },
        "id": "LiOSDFpzOOzi",
        "outputId": "8945c024-445a-49fb-a42e-2d43a71716b5"
      },
      "execution_count": 24,
      "outputs": [
        {
          "output_type": "stream",
          "name": "stdout",
          "text": [
            "What is your name?\n",
            "Ershadul\n",
            "Hello, Ershadul.\n",
            "What is your name?Ershadul\n",
            "Hello, Ershadul.\n"
          ]
        }
      ]
    },
    {
      "cell_type": "markdown",
      "source": [
        "**Exercise13**"
      ],
      "metadata": {
        "id": "5C5RQGtWOhAj"
      }
    },
    {
      "cell_type": "code",
      "source": [
        "over_18 = True\n",
        "type(over_18)"
      ],
      "metadata": {
        "colab": {
          "base_uri": "https://localhost:8080/"
        },
        "id": "i4z4YRJ3OjEz",
        "outputId": "0d60cac9-8d25-48ca-a46d-13ac054bdabb"
      },
      "execution_count": 25,
      "outputs": [
        {
          "output_type": "execute_result",
          "data": {
            "text/plain": [
              "bool"
            ]
          },
          "metadata": {},
          "execution_count": 25
        }
      ]
    },
    {
      "cell_type": "code",
      "source": [
        "over_21 = False\n",
        "type(over_21)"
      ],
      "metadata": {
        "colab": {
          "base_uri": "https://localhost:8080/"
        },
        "id": "liPVJHE_OleI",
        "outputId": "bac31256-d896-4843-f2f9-5cac8a908a7f"
      },
      "execution_count": 26,
      "outputs": [
        {
          "output_type": "execute_result",
          "data": {
            "text/plain": [
              "bool"
            ]
          },
          "metadata": {},
          "execution_count": 26
        }
      ]
    },
    {
      "cell_type": "markdown",
      "source": [
        "**Exercise14**"
      ],
      "metadata": {
        "id": "a9JRG90OOrQ7"
      }
    },
    {
      "cell_type": "code",
      "source": [
        "income = 80000\n",
        "income < 75000"
      ],
      "metadata": {
        "colab": {
          "base_uri": "https://localhost:8080/"
        },
        "id": "a914dpTIOs-w",
        "outputId": "938dfbda-5165-4312-e6ab-508995bd0135"
      },
      "execution_count": 27,
      "outputs": [
        {
          "output_type": "execute_result",
          "data": {
            "text/plain": [
              "False"
            ]
          },
          "metadata": {},
          "execution_count": 27
        }
      ]
    },
    {
      "cell_type": "code",
      "source": [
        "income >= 80000 and income <= 1000000"
      ],
      "metadata": {
        "colab": {
          "base_uri": "https://localhost:8080/"
        },
        "id": "gcTaOa9eOwMI",
        "outputId": "934897e9-e148-4e4a-8632-83bc013707b0"
      },
      "execution_count": 28,
      "outputs": [
        {
          "output_type": "execute_result",
          "data": {
            "text/plain": [
              "True"
            ]
          },
          "metadata": {},
          "execution_count": 28
        }
      ]
    },
    {
      "cell_type": "code",
      "source": [
        "income != 100000"
      ],
      "metadata": {
        "colab": {
          "base_uri": "https://localhost:8080/"
        },
        "id": "-bR-UYgIOybj",
        "outputId": "b9a29479-a0d9-4618-bff4-72367415e396"
      },
      "execution_count": 29,
      "outputs": [
        {
          "output_type": "execute_result",
          "data": {
            "text/plain": [
              "True"
            ]
          },
          "metadata": {},
          "execution_count": 29
        }
      ]
    },
    {
      "cell_type": "code",
      "source": [
        "income == 90000"
      ],
      "metadata": {
        "colab": {
          "base_uri": "https://localhost:8080/"
        },
        "id": "2FHQRyhmO12d",
        "outputId": "f94a0f49-0ffd-4883-d768-204efe7195d7"
      },
      "execution_count": 30,
      "outputs": [
        {
          "output_type": "execute_result",
          "data": {
            "text/plain": [
              "False"
            ]
          },
          "metadata": {},
          "execution_count": 30
        }
      ]
    },
    {
      "cell_type": "code",
      "source": [
        "6 == 6.0"
      ],
      "metadata": {
        "colab": {
          "base_uri": "https://localhost:8080/"
        },
        "id": "e4ExlDA7O3WY",
        "outputId": "fc7b24eb-7fab-4db9-aad2-4c39f5f476be"
      },
      "execution_count": 31,
      "outputs": [
        {
          "output_type": "execute_result",
          "data": {
            "text/plain": [
              "True"
            ]
          },
          "metadata": {},
          "execution_count": 31
        }
      ]
    },
    {
      "cell_type": "code",
      "source": [
        "6 == '6'"
      ],
      "metadata": {
        "colab": {
          "base_uri": "https://localhost:8080/"
        },
        "id": "pdOU_kKPO5ed",
        "outputId": "f2f460f6-afef-4685-a537-d9fa40140dc9"
      },
      "execution_count": 32,
      "outputs": [
        {
          "output_type": "execute_result",
          "data": {
            "text/plain": [
              "False"
            ]
          },
          "metadata": {},
          "execution_count": 32
        }
      ]
    },
    {
      "cell_type": "code",
      "source": [
        "age=29\n",
        "(age >= 20 and age < 30) or (age >= 30 and age < 40)"
      ],
      "metadata": {
        "colab": {
          "base_uri": "https://localhost:8080/"
        },
        "id": "_ll9DubGO7Yi",
        "outputId": "28abdbd9-f168-47f0-ea57-d9bf32f6297f"
      },
      "execution_count": 33,
      "outputs": [
        {
          "output_type": "execute_result",
          "data": {
            "text/plain": [
              "True"
            ]
          },
          "metadata": {},
          "execution_count": 33
        }
      ]
    },
    {
      "cell_type": "code",
      "source": [
        "(20 <= age < 30) or (30 <= age < 40)"
      ],
      "metadata": {
        "colab": {
          "base_uri": "https://localhost:8080/"
        },
        "id": "OfPcyXTfO9Md",
        "outputId": "79838404-04a2-4af5-9442-87b244ccd34b"
      },
      "execution_count": 34,
      "outputs": [
        {
          "output_type": "execute_result",
          "data": {
            "text/plain": [
              "True"
            ]
          },
          "metadata": {},
          "execution_count": 34
        }
      ]
    },
    {
      "cell_type": "markdown",
      "source": [
        "**Exercise15**"
      ],
      "metadata": {
        "id": "LLrnygi5O_1u"
      }
    },
    {
      "cell_type": "code",
      "source": [
        "'a' < 'c'"
      ],
      "metadata": {
        "colab": {
          "base_uri": "https://localhost:8080/"
        },
        "id": "6FPShXySPDhJ",
        "outputId": "4a260b21-176a-4591-e21a-e389d64da1ca"
      },
      "execution_count": 35,
      "outputs": [
        {
          "output_type": "execute_result",
          "data": {
            "text/plain": [
              "True"
            ]
          },
          "metadata": {},
          "execution_count": 35
        }
      ]
    },
    {
      "cell_type": "code",
      "source": [
        "'New York' > 'San Francisco'"
      ],
      "metadata": {
        "colab": {
          "base_uri": "https://localhost:8080/"
        },
        "id": "EocVybsyPGBX",
        "outputId": "42c193d8-57a0-4d3d-b741-33a5d08b95be"
      },
      "execution_count": 36,
      "outputs": [
        {
          "output_type": "execute_result",
          "data": {
            "text/plain": [
              "False"
            ]
          },
          "metadata": {},
          "execution_count": 36
        }
      ]
    },
    {
      "cell_type": "markdown",
      "source": [
        "**Exercise16**"
      ],
      "metadata": {
        "id": "Nh-cUXcsPJUw"
      }
    },
    {
      "cell_type": "code",
      "source": [
        "age = 20\n",
        "if age >= 18 and age < 21:\n",
        "    print('At least you can vote.')\n",
        "    print('US Poker will have to wait.')"
      ],
      "metadata": {
        "colab": {
          "base_uri": "https://localhost:8080/"
        },
        "id": "vxqFg4RPPLsx",
        "outputId": "38c5f38c-8a50-4886-949b-f8aa87687ac3"
      },
      "execution_count": 37,
      "outputs": [
        {
          "output_type": "stream",
          "name": "stdout",
          "text": [
            "At least you can vote.\n",
            "US Poker will have to wait.\n"
          ]
        }
      ]
    },
    {
      "cell_type": "code",
      "source": [
        "if age >= 18:\n",
        "    print('You can vote.')\n",
        "    if age >= 21:\n",
        "        print('You can play poker in the US.')"
      ],
      "metadata": {
        "colab": {
          "base_uri": "https://localhost:8080/"
        },
        "id": "tb49GuxYPOfM",
        "outputId": "09e00870-a070-4faa-8cc6-87871479478a"
      },
      "execution_count": 39,
      "outputs": [
        {
          "output_type": "stream",
          "name": "stdout",
          "text": [
            "You can vote.\n"
          ]
        }
      ]
    },
    {
      "cell_type": "markdown",
      "source": [
        "**Exercise17**"
      ],
      "metadata": {
        "id": "uCp80dsIPZbM"
      }
    },
    {
      "cell_type": "code",
      "source": [
        "age = 20\n",
        "if age < 18:\n",
        "    print('You aren\\'t old enough to vote.')\n",
        "else:\n",
        "    print('Welcome to our voting program.')"
      ],
      "metadata": {
        "colab": {
          "base_uri": "https://localhost:8080/"
        },
        "id": "Z1Q96NuSPeZ0",
        "outputId": "e41b975e-4f2f-4dfa-fd25-3292dd15b064"
      },
      "execution_count": 40,
      "outputs": [
        {
          "output_type": "stream",
          "name": "stdout",
          "text": [
            "Welcome to our voting program.\n"
          ]
        }
      ]
    },
    {
      "cell_type": "code",
      "source": [
        "if age >= 18:\n",
        "    print('Welcome to our voting program.')\n",
        "else:\n",
        "    print('You aren\\'t old enough to vote.')"
      ],
      "metadata": {
        "colab": {
          "base_uri": "https://localhost:8080/"
        },
        "id": "2x36M1sIPh8o",
        "outputId": "dfd0ad53-470e-46e5-b8e6-ed69f23e35e7"
      },
      "execution_count": 41,
      "outputs": [
        {
          "output_type": "stream",
          "name": "stdout",
          "text": [
            "Welcome to our voting program.\n"
          ]
        }
      ]
    },
    {
      "cell_type": "markdown",
      "source": [
        "**Exercise18**"
      ],
      "metadata": {
        "id": "GlA5-vc1Pj-N"
      }
    },
    {
      "cell_type": "code",
      "source": [
        "print('Enter a number to see if it\\'s a perfect square.')"
      ],
      "metadata": {
        "colab": {
          "base_uri": "https://localhost:8080/"
        },
        "id": "PT2f9_jAPmxJ",
        "outputId": "8a0b1016-8feb-454c-a545-a198061552e5"
      },
      "execution_count": 42,
      "outputs": [
        {
          "output_type": "stream",
          "name": "stdout",
          "text": [
            "Enter a number to see if it's a perfect square.\n"
          ]
        }
      ]
    },
    {
      "cell_type": "code",
      "source": [
        "number = input()"
      ],
      "metadata": {
        "colab": {
          "base_uri": "https://localhost:8080/"
        },
        "id": "fdEZ7wnBPr0D",
        "outputId": "315376bf-713f-4e59-a0d6-0b4bc1b9611c"
      },
      "execution_count": 43,
      "outputs": [
        {
          "name": "stdout",
          "output_type": "stream",
          "text": [
            "20\n"
          ]
        }
      ]
    },
    {
      "cell_type": "code",
      "source": [
        "number = abs(int(number))"
      ],
      "metadata": {
        "id": "dN6BbZUhPvm8"
      },
      "execution_count": 44,
      "outputs": []
    },
    {
      "cell_type": "code",
      "source": [
        "i = -1\n"
      ],
      "metadata": {
        "id": "VT2PoKKSPxSK"
      },
      "execution_count": 45,
      "outputs": []
    },
    {
      "cell_type": "code",
      "source": [
        "square = False"
      ],
      "metadata": {
        "id": "tIW0psbHPzL_"
      },
      "execution_count": 46,
      "outputs": []
    },
    {
      "cell_type": "code",
      "source": [
        "while number >= 0 and number%1 ==0 and i <= number**(0.5) :\n",
        "    i += 1\n",
        "    if i*i == number:\n",
        "        square = True\n",
        "        break\n",
        "if square:\n",
        "    print('The square root of', number, 'is', i, '.')\n",
        "else:\n",
        "    print('', number, 'is not a perfect square.')"
      ],
      "metadata": {
        "colab": {
          "base_uri": "https://localhost:8080/"
        },
        "id": "lWuq-9IMP1TN",
        "outputId": "8e18bd5f-a6c3-4b4b-95c6-6a83bd0fb3a4"
      },
      "execution_count": 47,
      "outputs": [
        {
          "output_type": "stream",
          "name": "stdout",
          "text": [
            " 20 is not a perfect square.\n"
          ]
        }
      ]
    },
    {
      "cell_type": "markdown",
      "source": [
        "**Exercise19**"
      ],
      "metadata": {
        "id": "SkphoNQtP3lg"
      }
    },
    {
      "cell_type": "code",
      "source": [
        "print('A one bedroom in the Bay Area is listed at $599,000')\n",
        "print('Enter your first offer on the house.')\n",
        "offer = abs(int(input()))\n",
        "print('Enter your best offer on the house.')\n",
        "best = abs(int(input()))\n",
        "print('How much more do you want to offer each time?')\n",
        "increment = abs(int(input()))\n",
        "offer_accepted = False\n",
        "while offer <= best:\n",
        "    if offer >= 650000:\n",
        "        offer_accepted = True\n",
        "        print('Your offer of', offer, 'has been accepted!')\n",
        "        break\n",
        "    print('We\\'re sorry, you\\'re offer of', offer, 'has not been accepted.' )\n",
        "    offer += increment"
      ],
      "metadata": {
        "colab": {
          "base_uri": "https://localhost:8080/"
        },
        "id": "swJXHh2_P7KG",
        "outputId": "798946b7-874e-403c-de62-e5fa3999810d"
      },
      "execution_count": 49,
      "outputs": [
        {
          "output_type": "stream",
          "name": "stdout",
          "text": [
            "A one bedroom in the Bay Area is listed at $599,000\n",
            "Enter your first offer on the house.\n",
            "700000\n",
            "Enter your best offer on the house.\n",
            "800000\n",
            "How much more do you want to offer each time?\n",
            "10000\n",
            "Your offer of 700000 has been accepted!\n"
          ]
        }
      ]
    },
    {
      "cell_type": "markdown",
      "source": [
        "**Exercise20**"
      ],
      "metadata": {
        "id": "Rc6Q8UU6QQl1"
      }
    },
    {
      "cell_type": "code",
      "source": [
        "for i in 'Amazing':\n",
        "    print(i)"
      ],
      "metadata": {
        "colab": {
          "base_uri": "https://localhost:8080/"
        },
        "id": "_HywU-tZQSz8",
        "outputId": "31227a08-a670-409d-cc75-e98ff069bb1d"
      },
      "execution_count": 50,
      "outputs": [
        {
          "output_type": "stream",
          "name": "stdout",
          "text": [
            "A\n",
            "m\n",
            "a\n",
            "z\n",
            "i\n",
            "n\n",
            "g\n"
          ]
        }
      ]
    },
    {
      "cell_type": "code",
      "source": [
        "for i in range(1,10):\n",
        "    print(i)"
      ],
      "metadata": {
        "colab": {
          "base_uri": "https://localhost:8080/"
        },
        "id": "2cm1T33oQWHi",
        "outputId": "6d542de3-cd56-41a5-b33a-43a0f84660bd"
      },
      "execution_count": 51,
      "outputs": [
        {
          "output_type": "stream",
          "name": "stdout",
          "text": [
            "1\n",
            "2\n",
            "3\n",
            "4\n",
            "5\n",
            "6\n",
            "7\n",
            "8\n",
            "9\n"
          ]
        }
      ]
    },
    {
      "cell_type": "code",
      "source": [
        "for i in range(10):\n",
        "    print(i)"
      ],
      "metadata": {
        "colab": {
          "base_uri": "https://localhost:8080/"
        },
        "id": "kEclwrnRQZNw",
        "outputId": "1f30569c-d097-498a-99cf-8e9fb4132083"
      },
      "execution_count": 52,
      "outputs": [
        {
          "output_type": "stream",
          "name": "stdout",
          "text": [
            "0\n",
            "1\n",
            "2\n",
            "3\n",
            "4\n",
            "5\n",
            "6\n",
            "7\n",
            "8\n",
            "9\n"
          ]
        }
      ]
    },
    {
      "cell_type": "code",
      "source": [
        "for i in range(1, 11, 2):\n",
        "    print(i)"
      ],
      "metadata": {
        "colab": {
          "base_uri": "https://localhost:8080/"
        },
        "id": "icfqqT53QbZr",
        "outputId": "199c1911-c733-4609-9199-4174237c4010"
      },
      "execution_count": 53,
      "outputs": [
        {
          "output_type": "stream",
          "name": "stdout",
          "text": [
            "1\n",
            "3\n",
            "5\n",
            "7\n",
            "9\n"
          ]
        }
      ]
    },
    {
      "cell_type": "code",
      "source": [
        "for i in range(3, 0, -1):\n",
        "    print(i)"
      ],
      "metadata": {
        "colab": {
          "base_uri": "https://localhost:8080/"
        },
        "id": "KaGPfEs7QdsG",
        "outputId": "305e1ad8-1b6e-41fe-df56-c0f3c1a64795"
      },
      "execution_count": 54,
      "outputs": [
        {
          "output_type": "stream",
          "name": "stdout",
          "text": [
            "3\n",
            "2\n",
            "1\n"
          ]
        }
      ]
    },
    {
      "cell_type": "code",
      "source": [
        "name = 'Ershadul'\n",
        "for j in range(3):\n",
        "    for i in name:\n",
        "        print(i)"
      ],
      "metadata": {
        "colab": {
          "base_uri": "https://localhost:8080/"
        },
        "id": "vyviVc2KQfv2",
        "outputId": "854fc9f5-cdb4-4377-a617-18d4a213d488"
      },
      "execution_count": 55,
      "outputs": [
        {
          "output_type": "stream",
          "name": "stdout",
          "text": [
            "E\n",
            "r\n",
            "s\n",
            "h\n",
            "a\n",
            "d\n",
            "u\n",
            "l\n",
            "E\n",
            "r\n",
            "s\n",
            "h\n",
            "a\n",
            "d\n",
            "u\n",
            "l\n",
            "E\n",
            "r\n",
            "s\n",
            "h\n",
            "a\n",
            "d\n",
            "u\n",
            "l\n"
          ]
        }
      ]
    },
    {
      "cell_type": "markdown",
      "source": [
        "**Chapter 02**"
      ],
      "metadata": {
        "id": "5lFxthHMQmza"
      }
    },
    {
      "cell_type": "markdown",
      "source": [
        "**Activity 06**"
      ],
      "metadata": {
        "id": "FYOxJAumQxP8"
      }
    },
    {
      "cell_type": "code",
      "source": [
        "employees = [['John Mckee', 38, 'Sales'], ['Lisa Crawford', 29, 'Marketing'], ['Sujan Patel', 33, 'HR']]\n",
        "print(employees)"
      ],
      "metadata": {
        "colab": {
          "base_uri": "https://localhost:8080/"
        },
        "id": "Vpw3YJOIQ2K5",
        "outputId": "c5c2e201-1ef4-4c9c-c74d-e7f4ed7e11cc"
      },
      "execution_count": 56,
      "outputs": [
        {
          "output_type": "stream",
          "name": "stdout",
          "text": [
            "[['John Mckee', 38, 'Sales'], ['Lisa Crawford', 29, 'Marketing'], ['Sujan Patel', 33, 'HR']]\n"
          ]
        }
      ]
    },
    {
      "cell_type": "code",
      "source": [
        "for employee in employees:\n",
        "    print(employee)"
      ],
      "metadata": {
        "colab": {
          "base_uri": "https://localhost:8080/"
        },
        "id": "HX978GwvQ4q-",
        "outputId": "fe58bee0-cf13-42d0-9c16-dbf9f85f4b97"
      },
      "execution_count": 57,
      "outputs": [
        {
          "output_type": "stream",
          "name": "stdout",
          "text": [
            "['John Mckee', 38, 'Sales']\n",
            "['Lisa Crawford', 29, 'Marketing']\n",
            "['Sujan Patel', 33, 'HR']\n"
          ]
        }
      ]
    },
    {
      "cell_type": "code",
      "source": [
        "for employee in employees:\n",
        "    print(\"Name:\", employee[0])\n",
        "    print(\"Age:\", employee[1])\n",
        "    print(\"Department:\", employee[2])\n",
        "    print('-' * 20)"
      ],
      "metadata": {
        "colab": {
          "base_uri": "https://localhost:8080/"
        },
        "id": "djUxaWOHQ7GG",
        "outputId": "11d542da-bf03-43d3-9ff2-7041dc907d26"
      },
      "execution_count": 58,
      "outputs": [
        {
          "output_type": "stream",
          "name": "stdout",
          "text": [
            "Name: John Mckee\n",
            "Age: 38\n",
            "Department: Sales\n",
            "--------------------\n",
            "Name: Lisa Crawford\n",
            "Age: 29\n",
            "Department: Marketing\n",
            "--------------------\n",
            "Name: Sujan Patel\n",
            "Age: 33\n",
            "Department: HR\n",
            "--------------------\n"
          ]
        }
      ]
    },
    {
      "cell_type": "code",
      "source": [
        "employee = employees[1]\n",
        "print(employee)\n",
        "print(\"Name:\", employee[0])\n",
        "print(\"Age:\", employee[1])\n",
        "print(\"Department:\", employee[2])\n",
        "print('-' * 20)"
      ],
      "metadata": {
        "colab": {
          "base_uri": "https://localhost:8080/"
        },
        "id": "HdgZIuTNQ-nK",
        "outputId": "4bcc471b-cbf0-4161-c10f-44b86f49c912"
      },
      "execution_count": 59,
      "outputs": [
        {
          "output_type": "stream",
          "name": "stdout",
          "text": [
            "['Lisa Crawford', 29, 'Marketing']\n",
            "Name: Lisa Crawford\n",
            "Age: 29\n",
            "Department: Marketing\n",
            "--------------------\n"
          ]
        }
      ]
    },
    {
      "cell_type": "markdown",
      "source": [
        "**Activity 07**"
      ],
      "metadata": {
        "id": "4XBpTe3ZRCa7"
      }
    },
    {
      "cell_type": "code",
      "source": [
        "employees = [\n",
        "    {\"name\": \"John Mckee\", \"age\":38, \"department\":\"Sales\"},\n",
        "    {\"name\": \"Lisa Crawford\", \"age\":29, \"department\":\"Marketing\"},\n",
        "    {\"name\": \"Sujan Patel\", \"age\":33, \"department\":\"HR\"}\n",
        "]\n",
        "\n",
        "print(employees)"
      ],
      "metadata": {
        "colab": {
          "base_uri": "https://localhost:8080/"
        },
        "id": "Lo2tRHVaRE4d",
        "outputId": "2d825b78-ea23-4673-b06d-0ab1a99d3a39"
      },
      "execution_count": 60,
      "outputs": [
        {
          "output_type": "stream",
          "name": "stdout",
          "text": [
            "[{'name': 'John Mckee', 'age': 38, 'department': 'Sales'}, {'name': 'Lisa Crawford', 'age': 29, 'department': 'Marketing'}, {'name': 'Sujan Patel', 'age': 33, 'department': 'HR'}]\n"
          ]
        }
      ]
    },
    {
      "cell_type": "code",
      "source": [
        "for employee in employees:\n",
        "    print(\"Name:\", employee['name'])\n",
        "    print(\"Age:\", employee['age'])\n",
        "    print(\"Department:\", employee['department'])\n",
        "    print('-' * 20)"
      ],
      "metadata": {
        "colab": {
          "base_uri": "https://localhost:8080/"
        },
        "id": "ys3ejGmKRIMR",
        "outputId": "febe4422-0166-4db6-9411-b519b70cc7fa"
      },
      "execution_count": 61,
      "outputs": [
        {
          "output_type": "stream",
          "name": "stdout",
          "text": [
            "Name: John Mckee\n",
            "Age: 38\n",
            "Department: Sales\n",
            "--------------------\n",
            "Name: Lisa Crawford\n",
            "Age: 29\n",
            "Department: Marketing\n",
            "--------------------\n",
            "Name: Sujan Patel\n",
            "Age: 33\n",
            "Department: HR\n",
            "--------------------\n"
          ]
        }
      ]
    },
    {
      "cell_type": "code",
      "source": [
        "for employee in employees:\n",
        "    if employee['name'] == 'Sujan Patel':\n",
        "        print(\"Name:\", employee['name'])\n",
        "        print(\"Age:\", employee['age'])\n",
        "        print(\"Department:\", employee['department'])\n",
        "        print('-' * 20)"
      ],
      "metadata": {
        "colab": {
          "base_uri": "https://localhost:8080/"
        },
        "id": "7kxp_HXlRLaY",
        "outputId": "a30dccc2-05b3-44d2-8ba7-9eb94598147d"
      },
      "execution_count": 62,
      "outputs": [
        {
          "output_type": "stream",
          "name": "stdout",
          "text": [
            "Name: Sujan Patel\n",
            "Age: 33\n",
            "Department: HR\n",
            "--------------------\n"
          ]
        }
      ]
    },
    {
      "cell_type": "markdown",
      "source": [
        "**Exercise21**"
      ],
      "metadata": {
        "id": "PBBXI-oRRQgf"
      }
    },
    {
      "cell_type": "code",
      "source": [
        "shopping = [\"bread\", \"milk\", \"eggs\"]\n",
        "print(shopping)"
      ],
      "metadata": {
        "colab": {
          "base_uri": "https://localhost:8080/"
        },
        "id": "leYJAulSRTjF",
        "outputId": "c413e130-e378-4ae4-845d-b82aef7b2011"
      },
      "execution_count": 63,
      "outputs": [
        {
          "output_type": "stream",
          "name": "stdout",
          "text": [
            "['bread', 'milk', 'eggs']\n"
          ]
        }
      ]
    },
    {
      "cell_type": "code",
      "source": [
        "for item in shopping:\n",
        "    print(item)"
      ],
      "metadata": {
        "colab": {
          "base_uri": "https://localhost:8080/"
        },
        "id": "o8YX4i47RVu4",
        "outputId": "0794c5b5-37da-4062-eabb-45d76eec9614"
      },
      "execution_count": 64,
      "outputs": [
        {
          "output_type": "stream",
          "name": "stdout",
          "text": [
            "bread\n",
            "milk\n",
            "eggs\n"
          ]
        }
      ]
    },
    {
      "cell_type": "code",
      "source": [
        "mixed = [365, \"days\", True]\n",
        "print(mixed)"
      ],
      "metadata": {
        "colab": {
          "base_uri": "https://localhost:8080/"
        },
        "id": "k39NPXdQRX9b",
        "outputId": "87065ebe-c769-4774-8766-e7162619e9e6"
      },
      "execution_count": 65,
      "outputs": [
        {
          "output_type": "stream",
          "name": "stdout",
          "text": [
            "[365, 'days', True]\n"
          ]
        }
      ]
    },
    {
      "cell_type": "code",
      "source": [
        "print(mixed[0])"
      ],
      "metadata": {
        "colab": {
          "base_uri": "https://localhost:8080/"
        },
        "id": "UTEUCgrdRaS-",
        "outputId": "3d77d11d-1024-4679-c0f3-8f3687165c1a"
      },
      "execution_count": 66,
      "outputs": [
        {
          "output_type": "stream",
          "name": "stdout",
          "text": [
            "365\n"
          ]
        }
      ]
    },
    {
      "cell_type": "code",
      "source": [
        "print(mixed[0:3])"
      ],
      "metadata": {
        "colab": {
          "base_uri": "https://localhost:8080/"
        },
        "id": "5bJXJqv6RcNh",
        "outputId": "0d85cf88-38c9-43ba-a885-af4daa15e864"
      },
      "execution_count": 67,
      "outputs": [
        {
          "output_type": "stream",
          "name": "stdout",
          "text": [
            "[365, 'days', True]\n"
          ]
        }
      ]
    },
    {
      "cell_type": "markdown",
      "source": [
        "**Exercise22**"
      ],
      "metadata": {
        "id": "M0r4-2ueReZc"
      }
    },
    {
      "cell_type": "code",
      "source": [
        "shopping = [\"bread\",\"milk\", \"eggs\"]\n",
        "print(len(shopping))"
      ],
      "metadata": {
        "colab": {
          "base_uri": "https://localhost:8080/"
        },
        "id": "4dW2SpQlRgE7",
        "outputId": "f76af2d6-57ea-45af-c33e-7af87cd48ca1"
      },
      "execution_count": 68,
      "outputs": [
        {
          "output_type": "stream",
          "name": "stdout",
          "text": [
            "3\n"
          ]
        }
      ]
    },
    {
      "cell_type": "code",
      "source": [
        "list1 = [1,2,3]\n",
        "list2 = [4,5,6]\n",
        "final_list = list1 + list2\n",
        "print(final_list)"
      ],
      "metadata": {
        "id": "T6vTItOKRj01"
      },
      "execution_count": null,
      "outputs": []
    },
    {
      "cell_type": "code",
      "source": [
        "list3 = ['oi']\n",
        "print(list3*3)"
      ],
      "metadata": {
        "colab": {
          "base_uri": "https://localhost:8080/"
        },
        "id": "5jXC3M0xRnI_",
        "outputId": "057c390f-49d2-4530-8526-b03b19d3d045"
      },
      "execution_count": 69,
      "outputs": [
        {
          "output_type": "stream",
          "name": "stdout",
          "text": [
            "['oi', 'oi', 'oi']\n"
          ]
        }
      ]
    },
    {
      "cell_type": "markdown",
      "source": [
        "**Exercise23**"
      ],
      "metadata": {
        "id": "8nqEK_iPRsUj"
      }
    },
    {
      "cell_type": "code",
      "source": [
        "shopping = [\"bread\",\"milk\", \"eggs\"]\n",
        "print(shopping[1])"
      ],
      "metadata": {
        "colab": {
          "base_uri": "https://localhost:8080/"
        },
        "id": "K8AfKVpkRt-G",
        "outputId": "917d4488-63a3-4d3a-f154-32c2a1d8e555"
      },
      "execution_count": 70,
      "outputs": [
        {
          "output_type": "stream",
          "name": "stdout",
          "text": [
            "milk\n"
          ]
        }
      ]
    },
    {
      "cell_type": "code",
      "source": [
        "shopping[1] = \"banana\"\n",
        "print(shopping)"
      ],
      "metadata": {
        "colab": {
          "base_uri": "https://localhost:8080/"
        },
        "id": "NRshgNTpRxRy",
        "outputId": "798474df-9847-475a-a003-883f3b27530b"
      },
      "execution_count": 71,
      "outputs": [
        {
          "output_type": "stream",
          "name": "stdout",
          "text": [
            "['bread', 'banana', 'eggs']\n"
          ]
        }
      ]
    },
    {
      "cell_type": "code",
      "source": [
        "print(shopping[-1])"
      ],
      "metadata": {
        "colab": {
          "base_uri": "https://localhost:8080/"
        },
        "id": "4a8pxgqoRzQL",
        "outputId": "a1eda8ab-3874-4c46-c23c-45557c273947"
      },
      "execution_count": 72,
      "outputs": [
        {
          "output_type": "stream",
          "name": "stdout",
          "text": [
            "eggs\n"
          ]
        }
      ]
    },
    {
      "cell_type": "code",
      "source": [
        "print(shopping[0:2])"
      ],
      "metadata": {
        "colab": {
          "base_uri": "https://localhost:8080/"
        },
        "id": "hwCg5A9cR2Xb",
        "outputId": "0adbdefe-671c-4ba6-f07c-af69ec9bfd9f"
      },
      "execution_count": 73,
      "outputs": [
        {
          "output_type": "stream",
          "name": "stdout",
          "text": [
            "['bread', 'banana']\n"
          ]
        }
      ]
    },
    {
      "cell_type": "code",
      "source": [
        "print(shopping[:3])"
      ],
      "metadata": {
        "colab": {
          "base_uri": "https://localhost:8080/"
        },
        "id": "1wqE8wxvR4U-",
        "outputId": "47da437d-b28d-4263-bd79-bd6dcb6cd0c3"
      },
      "execution_count": 74,
      "outputs": [
        {
          "output_type": "stream",
          "name": "stdout",
          "text": [
            "['bread', 'banana', 'eggs']\n"
          ]
        }
      ]
    },
    {
      "cell_type": "code",
      "source": [
        "print(shopping[1:])"
      ],
      "metadata": {
        "colab": {
          "base_uri": "https://localhost:8080/"
        },
        "id": "0kyWfv28R6T1",
        "outputId": "561dc9c9-aa59-4ad0-98e8-1987deccaef2"
      },
      "execution_count": 75,
      "outputs": [
        {
          "output_type": "stream",
          "name": "stdout",
          "text": [
            "['banana', 'eggs']\n"
          ]
        }
      ]
    },
    {
      "cell_type": "markdown",
      "source": [
        "**Exercise24**"
      ],
      "metadata": {
        "id": "JKfm8PXFR8Go"
      }
    },
    {
      "cell_type": "code",
      "source": [
        "shopping = [\"bread\",\"milk\", \"eggs\"]\n",
        "shopping.append(\"apple\")\n",
        "print(shopping)"
      ],
      "metadata": {
        "colab": {
          "base_uri": "https://localhost:8080/"
        },
        "id": "UIRsRGyoSD3k",
        "outputId": "5dba71cf-a3ff-4ec2-fb6f-b071c2105fd5"
      },
      "execution_count": 76,
      "outputs": [
        {
          "output_type": "stream",
          "name": "stdout",
          "text": [
            "['bread', 'milk', 'eggs', 'apple']\n"
          ]
        }
      ]
    },
    {
      "cell_type": "code",
      "source": [
        "shopping = []\n",
        "shopping.append('bread')\n",
        "shopping.append('milk')\n",
        "shopping.append('eggs')\n",
        "shopping.append('apple')\n",
        "print(shopping)"
      ],
      "metadata": {
        "colab": {
          "base_uri": "https://localhost:8080/"
        },
        "id": "kSa2gTCOSGF_",
        "outputId": "5d881234-7d66-413d-d1bf-63883a94184d"
      },
      "execution_count": 77,
      "outputs": [
        {
          "output_type": "stream",
          "name": "stdout",
          "text": [
            "['bread', 'milk', 'eggs', 'apple']\n"
          ]
        }
      ]
    },
    {
      "cell_type": "code",
      "source": [
        "shopping.insert(2, 'ham')\n",
        "print(shopping)"
      ],
      "metadata": {
        "colab": {
          "base_uri": "https://localhost:8080/"
        },
        "id": "BeUN392ISIcG",
        "outputId": "f7c49545-5e58-4312-ca52-416388d14bf2"
      },
      "execution_count": 78,
      "outputs": [
        {
          "output_type": "stream",
          "name": "stdout",
          "text": [
            "['bread', 'milk', 'ham', 'eggs', 'apple']\n"
          ]
        }
      ]
    },
    {
      "cell_type": "code",
      "source": [
        "new_shopping = ['coffee', 'orange']\n",
        "shopping.extend(new_shopping)\n",
        "print(shopping)"
      ],
      "metadata": {
        "colab": {
          "base_uri": "https://localhost:8080/"
        },
        "id": "Pw4XiTMVSLRQ",
        "outputId": "051be19e-5840-44ce-b4b7-06c342c212d0"
      },
      "execution_count": 79,
      "outputs": [
        {
          "output_type": "stream",
          "name": "stdout",
          "text": [
            "['bread', 'milk', 'ham', 'eggs', 'apple', 'coffee', 'orange']\n"
          ]
        }
      ]
    },
    {
      "cell_type": "code",
      "source": [
        "shopping.remove('ham')\n",
        "print(shopping)"
      ],
      "metadata": {
        "colab": {
          "base_uri": "https://localhost:8080/"
        },
        "id": "RvkgYgmhSNQf",
        "outputId": "be67e4fc-7f96-4c69-f162-ba817bd6ecad"
      },
      "execution_count": 80,
      "outputs": [
        {
          "output_type": "stream",
          "name": "stdout",
          "text": [
            "['bread', 'milk', 'eggs', 'apple', 'coffee', 'orange']\n"
          ]
        }
      ]
    },
    {
      "cell_type": "code",
      "source": [
        "shopping.pop(2)\n",
        "print(shopping)"
      ],
      "metadata": {
        "colab": {
          "base_uri": "https://localhost:8080/"
        },
        "id": "5xAJTnM6SO_8",
        "outputId": "ef2edaea-492a-4f1a-d447-412f11a27595"
      },
      "execution_count": 81,
      "outputs": [
        {
          "output_type": "stream",
          "name": "stdout",
          "text": [
            "['bread', 'milk', 'apple', 'coffee', 'orange']\n"
          ]
        }
      ]
    },
    {
      "cell_type": "code",
      "source": [
        "shopping.sort()\n",
        "print(shopping)"
      ],
      "metadata": {
        "colab": {
          "base_uri": "https://localhost:8080/"
        },
        "id": "Jfb61NzSSRLH",
        "outputId": "1d170423-2670-4bc4-f309-dfff4ff8cadb"
      },
      "execution_count": 82,
      "outputs": [
        {
          "output_type": "stream",
          "name": "stdout",
          "text": [
            "['apple', 'bread', 'coffee', 'milk', 'orange']\n"
          ]
        }
      ]
    },
    {
      "cell_type": "code",
      "source": [
        "shopping.sort(reverse = True)\n",
        "print(shopping)"
      ],
      "metadata": {
        "colab": {
          "base_uri": "https://localhost:8080/"
        },
        "id": "hmoT4m7nSTHW",
        "outputId": "e11b35f7-05c4-4f44-dc0b-d186fdb1bff4"
      },
      "execution_count": 83,
      "outputs": [
        {
          "output_type": "stream",
          "name": "stdout",
          "text": [
            "['orange', 'milk', 'coffee', 'bread', 'apple']\n"
          ]
        }
      ]
    },
    {
      "cell_type": "code",
      "source": [
        "shopping.index('coffee')"
      ],
      "metadata": {
        "colab": {
          "base_uri": "https://localhost:8080/"
        },
        "id": "uQBAToF0SVZl",
        "outputId": "25001b48-dd35-49a4-d384-1d5c3d41a5f9"
      },
      "execution_count": 84,
      "outputs": [
        {
          "output_type": "execute_result",
          "data": {
            "text/plain": [
              "2"
            ]
          },
          "metadata": {},
          "execution_count": 84
        }
      ]
    },
    {
      "cell_type": "markdown",
      "source": [
        "**Exercise25**"
      ],
      "metadata": {
        "id": "I1NaGj3pSYun"
      }
    },
    {
      "cell_type": "code",
      "source": [
        "primes = [2, 3, 5, 7, 11]\n",
        "primes_squared = []\n",
        "for i in primes:\n",
        "    primes_squared.append(i**2)\n",
        "print(primes_squared)"
      ],
      "metadata": {
        "colab": {
          "base_uri": "https://localhost:8080/"
        },
        "id": "Z4CpOs-9SapY",
        "outputId": "fcf566cd-a55c-43b1-aa14-687331ba1d7a"
      },
      "execution_count": 85,
      "outputs": [
        {
          "output_type": "stream",
          "name": "stdout",
          "text": [
            "[4, 9, 25, 49, 121]\n"
          ]
        }
      ]
    },
    {
      "cell_type": "markdown",
      "source": [
        "**Exercise26**"
      ],
      "metadata": {
        "id": "7WoQa93QSgyv"
      }
    },
    {
      "cell_type": "code",
      "source": [
        "m = [[1, 2, 3], [4, 5, 6]]"
      ],
      "metadata": {
        "id": "omU5Z4R6SihW"
      },
      "execution_count": 86,
      "outputs": []
    },
    {
      "cell_type": "code",
      "source": [
        "print(m[1][1])"
      ],
      "metadata": {
        "colab": {
          "base_uri": "https://localhost:8080/"
        },
        "id": "au1gYIDWSmGy",
        "outputId": "4c23949b-8d55-49ae-e5c4-c231d213d71c"
      },
      "execution_count": 87,
      "outputs": [
        {
          "output_type": "stream",
          "name": "stdout",
          "text": [
            "5\n"
          ]
        }
      ]
    },
    {
      "cell_type": "code",
      "source": [
        "for i in range(len(m)):\n",
        "    for j in range(len(m[i])):\n",
        "        print(m[i][j])"
      ],
      "metadata": {
        "colab": {
          "base_uri": "https://localhost:8080/"
        },
        "id": "xe31cSfFSp94",
        "outputId": "2aea9aa6-d884-44df-b908-03f7f7a47994"
      },
      "execution_count": 88,
      "outputs": [
        {
          "output_type": "stream",
          "name": "stdout",
          "text": [
            "1\n",
            "2\n",
            "3\n",
            "4\n",
            "5\n",
            "6\n"
          ]
        }
      ]
    },
    {
      "cell_type": "code",
      "source": [
        "for row in m:\n",
        "    for col in row:\n",
        "        print(col)"
      ],
      "metadata": {
        "colab": {
          "base_uri": "https://localhost:8080/"
        },
        "id": "wy1NvXhPSrjm",
        "outputId": "ebccf32a-3c74-419a-fb14-d442cdbc7a90"
      },
      "execution_count": 89,
      "outputs": [
        {
          "output_type": "stream",
          "name": "stdout",
          "text": [
            "1\n",
            "2\n",
            "3\n",
            "4\n",
            "5\n",
            "6\n"
          ]
        }
      ]
    },
    {
      "cell_type": "markdown",
      "source": [
        "**Exercise27**"
      ],
      "metadata": {
        "id": "LS-xtDYpSvd1"
      }
    },
    {
      "cell_type": "code",
      "source": [
        "X = [[1,2,3],[4,5,6],[7,8,9]]\n",
        "Y = [[10,11,12],[13,14,15],[16,17,18]]"
      ],
      "metadata": {
        "id": "GbFnykCsTAxG"
      },
      "execution_count": 90,
      "outputs": []
    },
    {
      "cell_type": "code",
      "source": [
        "# Initialize a result placeholder\n",
        "result = [[0,0,0],\n",
        "        [0,0,0],\n",
        "        [0,0,0]]"
      ],
      "metadata": {
        "id": "ATyE587CTDva"
      },
      "execution_count": 91,
      "outputs": []
    },
    {
      "cell_type": "code",
      "source": [
        "# iterate through rows\n",
        "for i in range(len(X)):\n",
        "# iterate through columns\n",
        "    for j in range(len(X[0])):\n",
        "        result[i][j] = X[i][j] + Y[i][j]\n",
        "\n",
        "print(result)"
      ],
      "metadata": {
        "colab": {
          "base_uri": "https://localhost:8080/"
        },
        "id": "XRjS_8KZTFLr",
        "outputId": "c60abccd-2024-4599-e009-3658535195b8"
      },
      "execution_count": 92,
      "outputs": [
        {
          "output_type": "stream",
          "name": "stdout",
          "text": [
            "[[11, 13, 15], [17, 19, 21], [23, 25, 27]]\n"
          ]
        }
      ]
    },
    {
      "cell_type": "code",
      "source": [
        "X = [[10,11,12],[13,14,15],[16,17,18]]\n",
        "Y = [[1,2,3],[4,5,6],[7,8,9]]"
      ],
      "metadata": {
        "id": "rhZ7Ui3bTIHU"
      },
      "execution_count": 93,
      "outputs": []
    },
    {
      "cell_type": "code",
      "source": [
        "# Initialize a result placeholder\n",
        "result = [[0,0,0],\n",
        "        [0,0,0],\n",
        "        [0,0,0]]"
      ],
      "metadata": {
        "id": "ZjtuJyv5TKKD"
      },
      "execution_count": 94,
      "outputs": []
    },
    {
      "cell_type": "code",
      "source": [
        "# iterate through rows\n",
        "for i in range(len(X)):\n",
        "# iterate through columns\n",
        "    for j in range(len(X[0])):\n",
        "        result[i][j] = X[i][j] - Y[i][j]\n",
        "\n",
        "print(result)"
      ],
      "metadata": {
        "colab": {
          "base_uri": "https://localhost:8080/"
        },
        "id": "L_21J2V-TMJC",
        "outputId": "2593035a-131c-445c-efe8-cbe007e601c4"
      },
      "execution_count": 95,
      "outputs": [
        {
          "output_type": "stream",
          "name": "stdout",
          "text": [
            "[[9, 9, 9], [9, 9, 9], [9, 9, 9]]\n"
          ]
        }
      ]
    },
    {
      "cell_type": "markdown",
      "source": [
        "**Exercise28**"
      ],
      "metadata": {
        "id": "5wk_0QzITPBj"
      }
    },
    {
      "cell_type": "code",
      "source": [
        "X = [[1, 2], [4, 5], [3, 6]]\n",
        "Y = [[1,2,3,4],[5,6,7,8]]"
      ],
      "metadata": {
        "id": "d5uopdUpTRIB"
      },
      "execution_count": 96,
      "outputs": []
    },
    {
      "cell_type": "code",
      "source": [
        "result = [[0, 0, 0, 0], [0, 0, 0, 0], [0, 0, 0, 0]]"
      ],
      "metadata": {
        "id": "eF8j7s3oTV1L"
      },
      "execution_count": 97,
      "outputs": []
    },
    {
      "cell_type": "code",
      "source": [
        "# iterating by row of X\n",
        "for i in range(len(X)):\n",
        "\n",
        "    # iterating by coloum by Y\n",
        "    for j in range(len(Y[0])):\n",
        "\n",
        "        # iterating by rows of Y\n",
        "        for k in range(len(Y)):\n",
        "            result[i][j] += X[i][k] * Y[k][j]"
      ],
      "metadata": {
        "id": "FdLI-Lg_TXu-"
      },
      "execution_count": 98,
      "outputs": []
    },
    {
      "cell_type": "code",
      "source": [
        "for r in result:\n",
        "    print(r)"
      ],
      "metadata": {
        "colab": {
          "base_uri": "https://localhost:8080/"
        },
        "id": "zeDFtFuaTY77",
        "outputId": "dcead137-be9c-435b-b58d-8afd0cb59c27"
      },
      "execution_count": 99,
      "outputs": [
        {
          "output_type": "stream",
          "name": "stdout",
          "text": [
            "[11, 14, 17, 20]\n",
            "[29, 38, 47, 56]\n",
            "[33, 42, 51, 60]\n"
          ]
        }
      ]
    },
    {
      "cell_type": "markdown",
      "source": [
        "**Exercise29**"
      ],
      "metadata": {
        "id": "upJrtlynTbM6"
      }
    },
    {
      "cell_type": "code",
      "source": [
        "movie = {\n",
        "    \"title\": \"The Godfather\",\n",
        "    \"director\": \"Francis Ford Coppola\",\n",
        "    \"year\": 1972,\n",
        "    \"rating\": 9.2\n",
        "}"
      ],
      "metadata": {
        "id": "vSXdqNkvTeOI"
      },
      "execution_count": 100,
      "outputs": []
    },
    {
      "cell_type": "code",
      "source": [
        "print(movie['year'])"
      ],
      "metadata": {
        "colab": {
          "base_uri": "https://localhost:8080/"
        },
        "id": "6c2Sbkz2To1H",
        "outputId": "2b4ed10f-48ee-430d-abe4-d2e0d3ff2abd"
      },
      "execution_count": 101,
      "outputs": [
        {
          "output_type": "stream",
          "name": "stdout",
          "text": [
            "1972\n"
          ]
        }
      ]
    },
    {
      "cell_type": "code",
      "source": [
        "movie['rating'] = (movie['rating'] + 9.3)/2\n",
        "print(movie['rating'])"
      ],
      "metadata": {
        "colab": {
          "base_uri": "https://localhost:8080/"
        },
        "id": "0CYB1ENUTrbN",
        "outputId": "00be43e1-b2a5-4a3a-a41c-19da27e43e7f"
      },
      "execution_count": 102,
      "outputs": [
        {
          "output_type": "stream",
          "name": "stdout",
          "text": [
            "9.25\n"
          ]
        }
      ]
    },
    {
      "cell_type": "code",
      "source": [
        "movie = {}\n",
        "movie['title'] = \"The Godfather\"\n",
        "movie['director'] = \"Francis Ford Coppola\"\n",
        "movie['year'] = 1972\n",
        "movie['rating'] = 9.2"
      ],
      "metadata": {
        "id": "rPkBRkfRTtWe"
      },
      "execution_count": 103,
      "outputs": []
    },
    {
      "cell_type": "code",
      "source": [
        "movie['actors'] = ['Marlon Brando', 'Al Pacino', 'James Caan']\n",
        "movie['other_details'] = {\n",
        "    'runtime': 175,\n",
        "    'language': 'English'\n",
        "}\n",
        "print(movie )"
      ],
      "metadata": {
        "colab": {
          "base_uri": "https://localhost:8080/"
        },
        "id": "I6TZIob9TvXR",
        "outputId": "9514c719-1013-4b87-abac-05eb400ffe01"
      },
      "execution_count": 104,
      "outputs": [
        {
          "output_type": "stream",
          "name": "stdout",
          "text": [
            "{'title': 'The Godfather', 'director': 'Francis Ford Coppola', 'year': 1972, 'rating': 9.2, 'actors': ['Marlon Brando', 'Al Pacino', 'James Caan'], 'other_details': {'runtime': 175, 'language': 'English'}}\n"
          ]
        }
      ]
    },
    {
      "cell_type": "markdown",
      "source": [
        "**Exercise30**"
      ],
      "metadata": {
        "id": "RZtbcKQATxjq"
      }
    },
    {
      "cell_type": "code",
      "source": [
        "album_sales = {'barbara':150,\n",
        "               'aretha':75,\n",
        "               'madonna':300,\n",
        "               'mariah':220}\n",
        "print(album_sales.values())\n",
        "print(list(album_sales.values()))"
      ],
      "metadata": {
        "colab": {
          "base_uri": "https://localhost:8080/"
        },
        "id": "xU4Gnt8XT2CY",
        "outputId": "e68705b5-5028-485b-c9fa-aa1e7bb44359"
      },
      "execution_count": 105,
      "outputs": [
        {
          "output_type": "stream",
          "name": "stdout",
          "text": [
            "dict_values([150, 75, 300, 220])\n",
            "[150, 75, 300, 220]\n"
          ]
        }
      ]
    },
    {
      "cell_type": "code",
      "source": [
        "print(list(album_sales.keys()))"
      ],
      "metadata": {
        "colab": {
          "base_uri": "https://localhost:8080/"
        },
        "id": "GTfISz2WT3IF",
        "outputId": "b9c4818e-4985-4b1e-ba68-d4c3c7845bfc"
      },
      "execution_count": 106,
      "outputs": [
        {
          "output_type": "stream",
          "name": "stdout",
          "text": [
            "['barbara', 'aretha', 'madonna', 'mariah']\n"
          ]
        }
      ]
    },
    {
      "cell_type": "code",
      "source": [
        "for item in album_sales.items():\n",
        "    print(item)"
      ],
      "metadata": {
        "colab": {
          "base_uri": "https://localhost:8080/"
        },
        "id": "AjObAOCYT6Ae",
        "outputId": "38c0104e-8e83-4db5-fd94-56090060343f"
      },
      "execution_count": 107,
      "outputs": [
        {
          "output_type": "stream",
          "name": "stdout",
          "text": [
            "('barbara', 150)\n",
            "('aretha', 75)\n",
            "('madonna', 300)\n",
            "('mariah', 220)\n"
          ]
        }
      ]
    },
    {
      "cell_type": "markdown",
      "source": [
        "**Exercise31**"
      ],
      "metadata": {
        "id": "Lh5I-JyOUCkj"
      }
    },
    {
      "cell_type": "code",
      "source": [
        "t = ('ballet', 'modern', 'hip-hop')\n",
        "print(len(t))"
      ],
      "metadata": {
        "colab": {
          "base_uri": "https://localhost:8080/"
        },
        "id": "b8br0JK5UEnw",
        "outputId": "3be28f6d-d146-4f67-b4c7-dbb13249cf06"
      },
      "execution_count": 108,
      "outputs": [
        {
          "output_type": "stream",
          "name": "stdout",
          "text": [
            "3\n"
          ]
        }
      ]
    },
    {
      "cell_type": "code",
      "source": [
        "t[2]"
      ],
      "metadata": {
        "colab": {
          "base_uri": "https://localhost:8080/",
          "height": 35
        },
        "id": "g_i33eIyUIdt",
        "outputId": "87bdfc50-471e-429e-fb00-f5aedf761acd"
      },
      "execution_count": 110,
      "outputs": [
        {
          "output_type": "execute_result",
          "data": {
            "text/plain": [
              "'hip-hop'"
            ],
            "application/vnd.google.colaboratory.intrinsic+json": {
              "type": "string"
            }
          },
          "metadata": {},
          "execution_count": 110
        }
      ]
    },
    {
      "cell_type": "code",
      "source": [
        "print(t + ('jazz','tap'))\n",
        "print(t)"
      ],
      "metadata": {
        "colab": {
          "base_uri": "https://localhost:8080/"
        },
        "id": "-ws7Eq_3UTg6",
        "outputId": "b13e4c95-a3a3-44f1-db83-1b19c823e336"
      },
      "execution_count": 111,
      "outputs": [
        {
          "output_type": "stream",
          "name": "stdout",
          "text": [
            "('ballet', 'modern', 'hip-hop', 'jazz', 'tap')\n",
            "('ballet', 'modern', 'hip-hop')\n"
          ]
        }
      ]
    },
    {
      "cell_type": "code",
      "source": [
        "t_mixed = 'jazz', True, 3\n",
        "print(t_mixed)\n",
        "\n",
        "t_shopping = ('jazz',3), ('ballroom',2), ('contemporary',5)\n",
        "print(t_shopping)"
      ],
      "metadata": {
        "colab": {
          "base_uri": "https://localhost:8080/"
        },
        "id": "12WtLRt1UU8t",
        "outputId": "7bf6f855-5156-4205-9088-cb90ebd2deea"
      },
      "execution_count": 112,
      "outputs": [
        {
          "output_type": "stream",
          "name": "stdout",
          "text": [
            "('jazz', True, 3)\n",
            "(('jazz', 3), ('ballroom', 2), ('contemporary', 5))\n"
          ]
        }
      ]
    },
    {
      "cell_type": "markdown",
      "source": [
        "**Exercise32**"
      ],
      "metadata": {
        "id": "PIKxIxZeUYi9"
      }
    },
    {
      "cell_type": "code",
      "source": [
        "items = ['apple', 'orange', 'banana']\n",
        "quantity = [5,3,2]"
      ],
      "metadata": {
        "id": "oOUI-tEaUaSF"
      },
      "execution_count": 113,
      "outputs": []
    },
    {
      "cell_type": "code",
      "source": [
        "orders = zip(items,quantity)\n",
        "print(orders)"
      ],
      "metadata": {
        "colab": {
          "base_uri": "https://localhost:8080/"
        },
        "id": "VAyYaBe4Uc81",
        "outputId": "bc88c44e-c43f-4d83-b765-51680570032e"
      },
      "execution_count": 114,
      "outputs": [
        {
          "output_type": "stream",
          "name": "stdout",
          "text": [
            "<zip object at 0x7c5f2437f580>\n"
          ]
        }
      ]
    },
    {
      "cell_type": "code",
      "source": [
        "orders = zip(items,quantity)\n",
        "print(list(orders))"
      ],
      "metadata": {
        "colab": {
          "base_uri": "https://localhost:8080/"
        },
        "id": "UZRFr4tiUftz",
        "outputId": "c364d96a-b549-43dd-a00b-be88f0c736d5"
      },
      "execution_count": 115,
      "outputs": [
        {
          "output_type": "stream",
          "name": "stdout",
          "text": [
            "[('apple', 5), ('orange', 3), ('banana', 2)]\n"
          ]
        }
      ]
    },
    {
      "cell_type": "code",
      "source": [
        "orders = zip(items,quantity)\n",
        "print(tuple(orders))"
      ],
      "metadata": {
        "colab": {
          "base_uri": "https://localhost:8080/"
        },
        "id": "hNEjDs8aUhsJ",
        "outputId": "0fe3f20f-77ef-4fec-9f9f-a56d72c4ca0a"
      },
      "execution_count": 116,
      "outputs": [
        {
          "output_type": "stream",
          "name": "stdout",
          "text": [
            "(('apple', 5), ('orange', 3), ('banana', 2))\n"
          ]
        }
      ]
    },
    {
      "cell_type": "code",
      "source": [
        "orders = zip(items,quantity)\n",
        "print(dict(orders))"
      ],
      "metadata": {
        "colab": {
          "base_uri": "https://localhost:8080/"
        },
        "id": "EYaGnhEkUjfv",
        "outputId": "0480fcc0-2fae-4bef-a45c-61f85890c990"
      },
      "execution_count": 117,
      "outputs": [
        {
          "output_type": "stream",
          "name": "stdout",
          "text": [
            "{'apple': 5, 'orange': 3, 'banana': 2}\n"
          ]
        }
      ]
    },
    {
      "cell_type": "markdown",
      "source": [
        "**Exercise33**"
      ],
      "metadata": {
        "id": "XkFeUGGkUl9Y"
      }
    },
    {
      "cell_type": "code",
      "source": [
        "s1 = set([1,2,3,4,5,6])\n",
        "print(s1)\n",
        "s2 = set([1,2,2,3,4,4,5,6,6])\n",
        "print(s2)\n",
        "s3 = set([3,4,5,6,6,6,1,1,2])\n",
        "print(s3)"
      ],
      "metadata": {
        "colab": {
          "base_uri": "https://localhost:8080/"
        },
        "id": "T0zI-XEKUneG",
        "outputId": "6b103855-d771-4448-de6f-249df81007f1"
      },
      "execution_count": 118,
      "outputs": [
        {
          "output_type": "stream",
          "name": "stdout",
          "text": [
            "{1, 2, 3, 4, 5, 6}\n",
            "{1, 2, 3, 4, 5, 6}\n",
            "{1, 2, 3, 4, 5, 6}\n"
          ]
        }
      ]
    },
    {
      "cell_type": "code",
      "source": [
        "s4 = {'martha graham', 'alvin ailey', 'isadora duncan'}\n",
        "print(s4)"
      ],
      "metadata": {
        "colab": {
          "base_uri": "https://localhost:8080/"
        },
        "id": "-2sn2xNDUqRI",
        "outputId": "36de98db-d22d-4260-acc6-2edf32ab245c"
      },
      "execution_count": 119,
      "outputs": [
        {
          "output_type": "stream",
          "name": "stdout",
          "text": [
            "{'isadora duncan', 'martha graham', 'alvin ailey'}\n"
          ]
        }
      ]
    },
    {
      "cell_type": "code",
      "source": [
        "s4.add('katherine dunham')\n",
        "print(s4)"
      ],
      "metadata": {
        "colab": {
          "base_uri": "https://localhost:8080/"
        },
        "id": "97P9q0LIUsRh",
        "outputId": "f7d850c6-600b-4a3d-d040-408c40583b92"
      },
      "execution_count": 120,
      "outputs": [
        {
          "output_type": "stream",
          "name": "stdout",
          "text": [
            "{'isadora duncan', 'martha graham', 'katherine dunham', 'alvin ailey'}\n"
          ]
        }
      ]
    },
    {
      "cell_type": "markdown",
      "source": [
        "**Exercise34**"
      ],
      "metadata": {
        "id": "1oTuWHpQUvq0"
      }
    },
    {
      "cell_type": "code",
      "source": [
        "s5 = {1,2,3,4}\n",
        "s6 = {3,4,5,6}"
      ],
      "metadata": {
        "id": "NmO8Ikh6Uy4S"
      },
      "execution_count": 121,
      "outputs": []
    },
    {
      "cell_type": "code",
      "source": [
        "print(s5 | s6)\n",
        "print(s5.union(s6))"
      ],
      "metadata": {
        "colab": {
          "base_uri": "https://localhost:8080/"
        },
        "id": "YFMEBDy4U124",
        "outputId": "387555e6-b468-4f6a-e57b-8d84258d6109"
      },
      "execution_count": 122,
      "outputs": [
        {
          "output_type": "stream",
          "name": "stdout",
          "text": [
            "{1, 2, 3, 4, 5, 6}\n",
            "{1, 2, 3, 4, 5, 6}\n"
          ]
        }
      ]
    },
    {
      "cell_type": "code",
      "source": [
        "print(s5 & s6)\n",
        "print(s5.intersection(s6))"
      ],
      "metadata": {
        "colab": {
          "base_uri": "https://localhost:8080/"
        },
        "id": "Qb-3OItoU3o1",
        "outputId": "be74ff3a-38c0-4dee-d587-fbe016e99694"
      },
      "execution_count": 123,
      "outputs": [
        {
          "output_type": "stream",
          "name": "stdout",
          "text": [
            "{3, 4}\n",
            "{3, 4}\n"
          ]
        }
      ]
    },
    {
      "cell_type": "code",
      "source": [
        "print(s5 - s6)\n",
        "print(s5.difference(s6))"
      ],
      "metadata": {
        "colab": {
          "base_uri": "https://localhost:8080/"
        },
        "id": "Xx9xl-lPU5Vo",
        "outputId": "2b7899d1-55d7-40db-e4f2-936fb61388fc"
      },
      "execution_count": 124,
      "outputs": [
        {
          "output_type": "stream",
          "name": "stdout",
          "text": [
            "{1, 2}\n",
            "{1, 2}\n"
          ]
        }
      ]
    },
    {
      "cell_type": "code",
      "source": [
        "print(s5 <= s6)\n",
        "print(s5.issubset(s6))\n",
        "\n",
        "s7 = {1,2,3}\n",
        "s8 = {1,2,3,4,5}\n",
        "\n",
        "print(s7 <= s8)\n",
        "print(s7.issubset(s8))"
      ],
      "metadata": {
        "colab": {
          "base_uri": "https://localhost:8080/"
        },
        "id": "wjTyIlkjU7YH",
        "outputId": "158e905b-04f2-485c-f7a3-43bcc3a4b4a7"
      },
      "execution_count": 125,
      "outputs": [
        {
          "output_type": "stream",
          "name": "stdout",
          "text": [
            "False\n",
            "False\n",
            "True\n",
            "True\n"
          ]
        }
      ]
    },
    {
      "cell_type": "code",
      "source": [
        "print(s7 < s8)\n",
        "\n",
        "s9 = {1,2,3}\n",
        "s10 = {1,2,3}\n",
        "\n",
        "print(s9 < s10)\n",
        "print(s9 < s9)"
      ],
      "metadata": {
        "colab": {
          "base_uri": "https://localhost:8080/"
        },
        "id": "V6jqMwNPU8pY",
        "outputId": "527b82d2-a09f-4103-d6bd-82162c47e254"
      },
      "execution_count": 126,
      "outputs": [
        {
          "output_type": "stream",
          "name": "stdout",
          "text": [
            "True\n",
            "False\n",
            "False\n"
          ]
        }
      ]
    },
    {
      "cell_type": "code",
      "source": [
        "print(s8 >= s7)\n",
        "print(s8.issuperset(s7))\n",
        "print(s8 > s7)\n",
        "print(s8 > s8)"
      ],
      "metadata": {
        "colab": {
          "base_uri": "https://localhost:8080/"
        },
        "id": "WzxT1_yAU-tr",
        "outputId": "1057d025-2310-4255-9778-4d78e9fbc327"
      },
      "execution_count": 127,
      "outputs": [
        {
          "output_type": "stream",
          "name": "stdout",
          "text": [
            "True\n",
            "True\n",
            "True\n",
            "False\n"
          ]
        }
      ]
    }
  ]
}