{
  "nbformat": 4,
  "nbformat_minor": 0,
  "metadata": {
    "colab": {
      "provenance": [],
      "authorship_tag": "ABX9TyPspSqug7GQw4I4wsqfW/Rd",
      "include_colab_link": true
    },
    "kernelspec": {
      "name": "python3",
      "display_name": "Python 3"
    },
    "language_info": {
      "name": "python"
    }
  },
  "cells": [
    {
      "cell_type": "markdown",
      "metadata": {
        "id": "view-in-github",
        "colab_type": "text"
      },
      "source": [
        "<a href=\"https://colab.research.google.com/github/Haque14/MSE504/blob/main/HW2.ipynb\" target=\"_parent\"><img src=\"https://colab.research.google.com/assets/colab-badge.svg\" alt=\"Open In Colab\"/></a>"
      ]
    },
    {
      "cell_type": "code",
      "execution_count": null,
      "metadata": {
        "id": "_my5tq0QKBsa"
      },
      "outputs": [],
      "source": [
        "Name: Md Ershadul Haque,  Department: Mechanical, Aerospace, and Biomedical Engineering\n",
        "\n"
      ]
    },
    {
      "cell_type": "code",
      "source": [
        "\"\"\"\n",
        "This script returns the current system time in Eastern Standard Time (EST).\n",
        "\"\"\"\n",
        "\n",
        "# Import the datetime library and pytz for timezone handling\n",
        "import datetime\n",
        "import pytz\n",
        "\n",
        "# Define the timezone for Eastern Standard Time (EST)\n",
        "est = pytz.timezone('America/New_York')\n",
        "\n",
        "# Get the current time in UTC and convert it to EST\n",
        "current_time_est = datetime.datetime.now(pytz.utc).astimezone(est).time()\n",
        "\n",
        "# If the script is being executed directly (not imported), this condition will be true,\n",
        "# and the current EST time will be printed\n",
        "if __name__ == '__main__':\n",
        "    print(current_time_est)"
      ],
      "metadata": {
        "colab": {
          "base_uri": "https://localhost:8080/"
        },
        "id": "Dg9weSidKR6p",
        "outputId": "72be83f5-deed-4f50-8306-be9e0ba6a8b5"
      },
      "execution_count": null,
      "outputs": [
        {
          "output_type": "stream",
          "name": "stdout",
          "text": [
            "15:36:54.380794\n"
          ]
        }
      ]
    },
    {
      "cell_type": "code",
      "source": [
        "def fibonacci_iterative(n):\n",
        "    previous = 0\n",
        "    current = 1\n",
        "    for i in range(n - 1):\n",
        "        current_old = current\n",
        "        current = previous + current\n",
        "        previous = current_old\n",
        "    return current"
      ],
      "metadata": {
        "id": "ic0zTp3xMm5U"
      },
      "execution_count": 2,
      "outputs": []
    },
    {
      "cell_type": "code",
      "source": [
        "from fibonacci import fibonacci_iterative\n",
        "fibonacci_iterative(3)"
      ],
      "metadata": {
        "colab": {
          "base_uri": "https://localhost:8080/",
          "height": 332
        },
        "id": "UHWFujaQ_ZkC",
        "outputId": "3177d5d1-a241-43e1-9210-18ccacfa4c8c"
      },
      "execution_count": 3,
      "outputs": [
        {
          "output_type": "error",
          "ename": "ModuleNotFoundError",
          "evalue": "No module named 'fibonacci'",
          "traceback": [
            "\u001b[0;31m---------------------------------------------------------------------------\u001b[0m",
            "\u001b[0;31mModuleNotFoundError\u001b[0m                       Traceback (most recent call last)",
            "\u001b[0;32m<ipython-input-3-e3297dcf9957>\u001b[0m in \u001b[0;36m<cell line: 1>\u001b[0;34m()\u001b[0m\n\u001b[0;32m----> 1\u001b[0;31m \u001b[0;32mfrom\u001b[0m \u001b[0mfibonacci\u001b[0m \u001b[0;32mimport\u001b[0m \u001b[0mfibonacci_iterative\u001b[0m\u001b[0;34m\u001b[0m\u001b[0;34m\u001b[0m\u001b[0m\n\u001b[0m\u001b[1;32m      2\u001b[0m \u001b[0mfibonacci_iterative\u001b[0m\u001b[0;34m(\u001b[0m\u001b[0;36m3\u001b[0m\u001b[0;34m)\u001b[0m\u001b[0;34m\u001b[0m\u001b[0;34m\u001b[0m\u001b[0m\n",
            "\u001b[0;31mModuleNotFoundError\u001b[0m: No module named 'fibonacci'",
            "",
            "\u001b[0;31m---------------------------------------------------------------------------\u001b[0;32m\nNOTE: If your import is failing due to a missing package, you can\nmanually install dependencies using either !pip or !apt.\n\nTo view examples of installing some common dependencies, click the\n\"Open Examples\" button below.\n\u001b[0;31m---------------------------------------------------------------------------\u001b[0m\n"
          ],
          "errorDetails": {
            "actions": [
              {
                "action": "open_url",
                "actionText": "Open Examples",
                "url": "/notebooks/snippets/importing_libraries.ipynb"
              }
            ]
          }
        }
      ]
    }
  ]
}